{
  "nbformat": 4,
  "nbformat_minor": 0,
  "metadata": {
    "colab": {
      "name": "MinorProject.ipynb",
      "provenance": [],
      "authorship_tag": "ABX9TyNbhmJQT0KBkMmZ4rGYrBBr",
      "include_colab_link": true
    },
    "kernelspec": {
      "name": "python3",
      "display_name": "Python 3"
    },
    "language_info": {
      "name": "python"
    }
  },
  "cells": [
    {
      "cell_type": "markdown",
      "metadata": {
        "id": "view-in-github",
        "colab_type": "text"
      },
      "source": [
        "<a href=\"https://colab.research.google.com/github/sourds42/basics/blob/main/MinorProject.ipynb\" target=\"_parent\"><img src=\"https://colab.research.google.com/assets/colab-badge.svg\" alt=\"Open In Colab\"/></a>"
      ]
    },
    {
      "cell_type": "code",
      "metadata": {
        "colab": {
          "base_uri": "https://localhost:8080/"
        },
        "id": "jTaBeOE42gsp",
        "outputId": "a5926cb7-b090-49be-c69b-7a0e8e29912e"
      },
      "source": [
        "!pip install bing-image-downloader"
      ],
      "execution_count": null,
      "outputs": [
        {
          "output_type": "stream",
          "text": [
            "Collecting bing-image-downloader\n",
            "  Downloading https://files.pythonhosted.org/packages/2c/f9/e827c690d0df1ec2f2f27cf0fb3d1f944c5c56253f8d3750ccaff051b3d3/bing_image_downloader-1.1.0-py3-none-any.whl\n",
            "Installing collected packages: bing-image-downloader\n",
            "Successfully installed bing-image-downloader-1.1.0\n"
          ],
          "name": "stdout"
        }
      ]
    },
    {
      "cell_type": "code",
      "metadata": {
        "colab": {
          "base_uri": "https://localhost:8080/"
        },
        "id": "YburrcMQ2o0x",
        "outputId": "bd4ed565-98e3-4671-b69a-3501725cf12c"
      },
      "source": [
        "!mkdir images"
      ],
      "execution_count": null,
      "outputs": [
        {
          "output_type": "stream",
          "text": [
            "mkdir: cannot create directory ‘images’: File exists\n"
          ],
          "name": "stdout"
        }
      ]
    },
    {
      "cell_type": "code",
      "metadata": {
        "colab": {
          "base_uri": "https://localhost:8080/"
        },
        "id": "dfJReU_52wG1",
        "outputId": "5bb1fe07-18e9-4786-bd95-2043b73f7e52"
      },
      "source": [
        "from  bing_image_downloader import downloader\n",
        "downloader.download(\"Yellow Mango Fruit jpg\",limit=25,output_dir='images',adult_filter_off=True)"
      ],
      "execution_count": null,
      "outputs": [
        {
          "output_type": "stream",
          "text": [
            "[%] Downloading Images to /content/images/Yellow Mango Fruit jpg\n",
            "\n",
            "\n",
            "[!!]Indexing page: 1\n",
            "\n",
            "[%] Indexed 25 Images on Page 1.\n",
            "\n",
            "===============================================\n",
            "\n",
            "[%] Downloading Image #1 from https://i.ebayimg.com/images/g/k1EAAOSwRNde2NPn/s-l640.jpg\n",
            "[%] File Downloaded !\n",
            "\n",
            "[%] Downloading Image #2 from https://assets.bringmeister.de/media/p/8740030021/0/c1e6013621311a29e88763c2595cb64b.jpg?imwidth=495\n",
            "[!] Issue getting: https://assets.bringmeister.de/media/p/8740030021/0/c1e6013621311a29e88763c2595cb64b.jpg?imwidth=495\n",
            "[!] Error:: HTTP Error 404: Not Found\n",
            "[%] Downloading Image #2 from https://thumbs.dreamstime.com/b/yellow-sweet-mango-fruit-asia-fruit-natural-background-54511133.jpg\n",
            "[%] File Downloaded !\n",
            "\n",
            "[%] Downloading Image #3 from https://thumbs.dreamstime.com/b/yellow-plum-mango-fruit-basket-93149288.jpg\n",
            "[%] File Downloaded !\n",
            "\n",
            "[%] Downloading Image #4 from https://smoothi.de/wp-content/uploads/2016/04/True-Fruits-Yellow-Mango-Maracujy-8-x-250ml-0.jpg\n",
            "[!] Issue getting: https://smoothi.de/wp-content/uploads/2016/04/True-Fruits-Yellow-Mango-Maracujy-8-x-250ml-0.jpg\n",
            "[!] Error:: HTTP Error 403: Forbidden\n",
            "[%] Downloading Image #4 from https://thumbs.dreamstime.com/b/yellow-mango-fruit-43052482.jpg\n",
            "[%] File Downloaded !\n",
            "\n",
            "[%] Downloading Image #5 from https://thumbs.dreamstime.com/z/yellow-mango-photo-background-bunch-tropical-fruits-oval-yellow-mango-pile-sweet-dessert-vegetarian-food-exotic-mango-116579717.jpg\n",
            "[%] File Downloaded !\n",
            "\n",
            "[%] Downloading Image #6 from https://image.freepik.com/free-photo/yellow-mango-fruit-isolated_33736-3105.jpg\n",
            "[%] File Downloaded !\n",
            "\n",
            "[%] Downloading Image #7 from https://media.istockphoto.com/photos/yellow-mango-on-wooden-background-bunch-of-tropical-fruits-oval-picture-id918084322\n",
            "[%] File Downloaded !\n",
            "\n",
            "[%] Downloading Image #8 from https://thumbs.dreamstime.com/z/delicious-fresh-yellow-mango-tropical-fruit-168490854.jpg\n",
            "[%] File Downloaded !\n",
            "\n",
            "[%] Downloading Image #9 from https://d40toz3wdlpr6.cloudfront.net/medias/sys_master/root/h92/h2f/8971542790174/2441179-01.jpg\n",
            "[%] File Downloaded !\n",
            "\n",
            "[%] Downloading Image #10 from https://thumbs.dreamstime.com/b/fresh-yellow-mango-hanging-tree-garden-fruits-contain-beta-carotene-antioxidant-fruit-health-183858076.jpg\n",
            "[%] File Downloaded !\n",
            "\n",
            "[%] Downloading Image #11 from https://i.pinimg.com/736x/ec/39/17/ec391728030584bf6db1718eb345200c--mango-fruit-yellow.jpg\n",
            "[%] File Downloaded !\n",
            "\n",
            "[%] Downloading Image #12 from https://thumbs.dreamstime.com/b/yellow-mango-thai-fruit-favorite-white-background-31056493.jpg\n",
            "[%] File Downloaded !\n",
            "\n",
            "[%] Downloading Image #13 from https://thumbs.dreamstime.com/b/thai-yellow-sweet-mango-fruit-isolated-white-background-thai-yellow-sweet-mango-fruit-116502414.jpg\n",
            "[%] File Downloaded !\n",
            "\n",
            "[%] Downloading Image #14 from https://image.freepik.com/free-photo/plum-mango-fruit-summer-yellow-color-expensive-delicious_25129-469.jpg\n",
            "[%] File Downloaded !\n",
            "\n",
            "[%] Downloading Image #15 from https://thumbs.dreamstime.com/z/yellow-mango-pile-photo-background-wallpaper-bunch-tropical-fruits-oval-sweet-dessert-vegetarian-food-exotic-78679569.jpg\n",
            "[%] File Downloaded !\n",
            "\n",
            "[%] Downloading Image #16 from https://image.freepik.com/free-photo/sweet-yellow-mango-fruit-summer-wood-table_7451-45.jpg\n",
            "[%] File Downloaded !\n",
            "\n",
            "[%] Downloading Image #17 from https://image.freepik.com/free-photo/yellow-mango-fruit-with-leaf-tree_35148-403.jpg\n",
            "[%] File Downloaded !\n",
            "\n",
            "[%] Downloading Image #18 from https://image.freepik.com/free-photo/plum-mango-fruit-summer-yellow-color-expensive-delicious_25129-468.jpg\n",
            "[%] File Downloaded !\n",
            "\n",
            "[%] Downloading Image #19 from https://image.freepik.com/free-photo/plum-mango-fruit-summer-yellow-color-expensive-delicious_25129-466.jpg\n",
            "[%] File Downloaded !\n",
            "\n",
            "[%] Downloading Image #20 from https://xn--frhstcksknig-djb0fd.de/wp-content/uploads/2020/11/True-fruits-Smoothie-Yellow-250ml-3.jpg\n",
            "[%] File Downloaded !\n",
            "\n",
            "[%] Downloading Image #21 from https://i.pinimg.com/originals/9d/ff/48/9dff48301274014491fda40cc7aff66c.jpg\n",
            "[%] File Downloaded !\n",
            "\n",
            "[%] Downloading Image #22 from https://i.pinimg.com/originals/02/b4/43/02b4431edbea503a2273b99ac537faaa.jpg\n",
            "[%] File Downloaded !\n",
            "\n",
            "[%] Downloading Image #23 from https://i.ebayimg.com/images/g/0TgAAOSw72NdGi-G/s-l640.jpg\n",
            "[%] File Downloaded !\n",
            "\n",
            "\n",
            "\n",
            "[!!]Indexing page: 2\n",
            "\n",
            "[%] Indexed 35 Images on Page 2.\n",
            "\n",
            "===============================================\n",
            "\n",
            "[%] Downloading Image #24 from https://i.ebayimg.com/images/g/k1EAAOSwRNde2NPn/s-l640.jpg\n",
            "[%] File Downloaded !\n",
            "\n",
            "[%] Downloading Image #25 from https://assets.bringmeister.de/media/p/8740030021/0/c1e6013621311a29e88763c2595cb64b.jpg?imwidth=495\n",
            "[!] Issue getting: https://assets.bringmeister.de/media/p/8740030021/0/c1e6013621311a29e88763c2595cb64b.jpg?imwidth=495\n",
            "[!] Error:: HTTP Error 404: Not Found\n",
            "[%] Downloading Image #25 from https://thumbs.dreamstime.com/b/yellow-plum-mango-fruit-basket-93149288.jpg\n",
            "[%] File Downloaded !\n",
            "\n",
            "\n",
            "\n",
            "[%] Done. Downloaded 25 images.\n",
            "===============================================\n",
            "\n",
            "Please show your support here\n",
            "https://www.buymeacoffee.com/gurugaurav\n",
            "\n",
            "===============================================\n",
            "\n"
          ],
          "name": "stdout"
        }
      ]
    },
    {
      "cell_type": "code",
      "metadata": {
        "colab": {
          "base_uri": "https://localhost:8080/"
        },
        "id": "C-5m12DZ26PG",
        "outputId": "8c22faa9-ec0c-4aab-8963-a0146a460585"
      },
      "source": [
        "from  bing_image_downloader import downloader\n",
        "downloader.download(\"Red Apple Fruit jpg\",limit=25,output_dir='images',adult_filter_off=True)"
      ],
      "execution_count": null,
      "outputs": [
        {
          "output_type": "stream",
          "text": [
            "[%] Downloading Images to /content/images/Red Apple Fruit jpg\n",
            "\n",
            "\n",
            "[!!]Indexing page: 1\n",
            "\n",
            "[%] Indexed 25 Images on Page 1.\n",
            "\n",
            "===============================================\n",
            "\n",
            "[%] Downloading Image #1 from https://i.pinimg.com/originals/b0/bb/ec/b0bbec5292094bbbaf1db1fafea2aa1a.jpg\n",
            "[%] File Downloaded !\n",
            "\n",
            "[%] Downloading Image #2 from https://pixnio.com/free-images/flora-plants/fruits/apple-pictures/beautiful-red-apple.jpg\n",
            "[%] File Downloaded !\n",
            "\n",
            "[%] Downloading Image #3 from https://bharatiya.co/wp-content/uploads/2020/05/Red-Apples.jpg\n",
            "[%] File Downloaded !\n",
            "\n",
            "[%] Downloading Image #4 from https://upload.wikimedia.org/wikipedia/commons/0/06/Red_apple_fruits.jpg\n",
            "[%] File Downloaded !\n",
            "\n",
            "[%] Downloading Image #5 from https://iranfreshfruit.net/wp-content/uploads/2020/01/red-apple-fruit.jpg\n",
            "[%] File Downloaded !\n",
            "\n",
            "[%] Downloading Image #6 from https://c2.peakpx.com/wallpaper/506/19/628/fruit-apple-tree-harvest-wallpaper.jpg\n",
            "[%] File Downloaded !\n",
            "\n",
            "[%] Downloading Image #7 from https://pixnio.com/free-images/2018/07/01/2018-07-01-16-50-16.jpg\n",
            "[%] File Downloaded !\n",
            "\n",
            "[%] Downloading Image #8 from https://upload.wikimedia.org/wikipedia/commons/1/15/Red_Apple.jpg\n",
            "[%] File Downloaded !\n",
            "\n",
            "[%] Downloading Image #9 from https://images.pexels.com/photos/89434/pexels-photo-89434.jpeg?cs=srgb&amp;dl=apple-close-up-edible-89434.jpg&amp;fm=jpg\n",
            "[%] File Downloaded !\n",
            "\n",
            "[%] Downloading Image #10 from https://wallpapercave.com/wp/jLcYbhe.jpg\n",
            "[%] File Downloaded !\n",
            "\n",
            "[%] Downloading Image #11 from https://i.pinimg.com/originals/fd/e3/69/fde369435e275ae714ea1d247775d9db.jpg\n",
            "[%] File Downloaded !\n",
            "\n",
            "[%] Downloading Image #12 from https://davidwillanfoodhall.com/wp-content/uploads/2020/04/red-apple.jpg\n",
            "[%] File Downloaded !\n",
            "\n",
            "[%] Downloading Image #13 from https://i0.wp.com/www.theayurveda.org/wp-content/uploads/2015/08/Apple-fruit.jpg?fit=2880%2C1800&amp;ssl=1\n",
            "[%] File Downloaded !\n",
            "\n",
            "[%] Downloading Image #14 from https://thumbs.dreamstime.com/b/red-apple-fruit-leaf-white-background-44829591.jpg\n",
            "[%] File Downloaded !\n",
            "\n",
            "[%] Downloading Image #15 from https://www.schoolphotoproject.com/_picture-of-fruits/apple-photo2-l.jpg\n",
            "[%] File Downloaded !\n",
            "\n",
            "[%] Downloading Image #16 from https://i.pinimg.com/originals/66/53/67/66536751b9d2f04e4ea84297a1db4c0f.jpg\n",
            "[%] File Downloaded !\n",
            "\n",
            "[%] Downloading Image #17 from https://i.pinimg.com/originals/a7/85/d0/a785d0e727e40b5a228958a7aed0ae64.jpg\n",
            "[%] File Downloaded !\n",
            "\n",
            "[%] Downloading Image #18 from https://cdn.pixabay.com/photo/2018/01/29/22/56/apple-3117507_960_720.jpg\n",
            "[%] File Downloaded !\n",
            "\n",
            "[%] Downloading Image #19 from https://i.pinimg.com/originals/17/82/b9/1782b9c47c4148ed27bfddd40142251e.jpg\n",
            "[%] File Downloaded !\n",
            "\n",
            "[%] Downloading Image #20 from http://images6.fanpop.com/image/photos/34500000/Red-Apples-3-red-34590395-693-693.jpg\n",
            "[%] File Downloaded !\n",
            "\n",
            "[%] Downloading Image #21 from http://images6.fanpop.com/image/photos/34500000/Red-Apples-3-red-34590404-1920-1200.jpg\n",
            "[%] File Downloaded !\n",
            "\n",
            "[%] Downloading Image #22 from https://thumbs.dreamstime.com/b/seasonal-fruits-some-red-apples-seasonal-fruits-red-apples-apple-sweet-edible-fruit-produced-apple-tree-142799211.jpg\n",
            "[%] File Downloaded !\n",
            "\n",
            "[%] Downloading Image #23 from http://dreamicus.com/data/apple/apple-01.jpg\n",
            "[%] File Downloaded !\n",
            "\n",
            "[%] Downloading Image #24 from https://thumbs.dreamstime.com/z/fresh-fruit-many-ripe-red-apples-counter-supermarket-139295543.jpg\n",
            "[%] File Downloaded !\n",
            "\n",
            "[%] Downloading Image #25 from https://thumbs.dreamstime.com/z/fresh-red-organic-apple-isolated-fruit-store-fresh-red-organic-apple-isolated-fruit-store-picking-pear-bunch-produce-bananas-162545714.jpg\n",
            "[%] File Downloaded !\n",
            "\n",
            "\n",
            "\n",
            "[%] Done. Downloaded 25 images.\n",
            "===============================================\n",
            "\n",
            "Please show your support here\n",
            "https://www.buymeacoffee.com/gurugaurav\n",
            "\n",
            "===============================================\n",
            "\n"
          ],
          "name": "stdout"
        }
      ]
    },
    {
      "cell_type": "code",
      "metadata": {
        "id": "wKu7O-7u29XX"
      },
      "source": [
        "import os\n",
        "import matplotlib.pyplot as plt\n",
        "import numpy as np\n",
        "from skimage.io import imread\n",
        "from skimage.transform import resize\n",
        "target=[]\n",
        "images=[]\n",
        "flat_data= []\n",
        "DATADIR='/content/images'\n",
        "#os.rename(os.path.join(DATADIR,\"Yellow Mango Fruit jpg\"),os.path.join(DATADIR,\"Mango\"))\n",
        "#os.rename(os.path.join(DATADIR,\"Red Apple Fruit jpg\"),os.path.join(DATADIR,\"Apple\"))\n",
        "CATEGORIES=['Mango','Apple']\n",
        "for category in CATEGORIES:\n",
        "  class_num=CATEGORIES.index(category)\n",
        "  path=os.path.join(DATADIR,category)\n",
        "  for img in os.listdir(path):\n",
        "    img_array=imread(os.path.join(path,img))\n",
        "    img_resized = resize(img_array,(100,100,3))\n",
        "    flat_data.append(img_resized.flatten())\n",
        "    images.append(img_resized)\n",
        "    target.append(class_num)\n",
        "flat_data=np.array(flat_data)\n",
        "target=np.array(target)\n",
        "images=np.array(images)"
      ],
      "execution_count": null,
      "outputs": []
    },
    {
      "cell_type": "code",
      "metadata": {
        "id": "Cls69PAi3Hz2"
      },
      "source": [
        "from sklearn.model_selection import GridSearchCV, train_test_split\n",
        "from sklearn import svm"
      ],
      "execution_count": null,
      "outputs": []
    },
    {
      "cell_type": "code",
      "metadata": {
        "colab": {
          "base_uri": "https://localhost:8080/"
        },
        "id": "dop_KoWK3Me_",
        "outputId": "f8c578f4-bc02-409f-a854-569ebb1cda49"
      },
      "source": [
        "x_train,x_test,y_train,y_test=train_test_split(flat_data,target,test_size=0.3, random_state=109)\n",
        "param_grid=[\n",
        "            {'C':[1,10,100,1000],'kernel':['linear']},\n",
        "            {'C':[1,10,100,1000],'gamma':[0.001,0.0001],'kernel':['rbf']},\n",
        "]\n",
        "svc=svm.SVC(probability=True)\n",
        "clf=GridSearchCV(svc,param_grid)\n",
        "clf.fit(x_train,y_train)"
      ],
      "execution_count": null,
      "outputs": [
        {
          "output_type": "execute_result",
          "data": {
            "text/plain": [
              "GridSearchCV(cv=None, error_score=nan,\n",
              "             estimator=SVC(C=1.0, break_ties=False, cache_size=200,\n",
              "                           class_weight=None, coef0=0.0,\n",
              "                           decision_function_shape='ovr', degree=3,\n",
              "                           gamma='scale', kernel='rbf', max_iter=-1,\n",
              "                           probability=True, random_state=None, shrinking=True,\n",
              "                           tol=0.001, verbose=False),\n",
              "             iid='deprecated', n_jobs=None,\n",
              "             param_grid=[{'C': [1, 10, 100, 1000], 'kernel': ['linear']},\n",
              "                         {'C': [1, 10, 100, 1000], 'gamma': [0.001, 0.0001],\n",
              "                          'kernel': ['rbf']}],\n",
              "             pre_dispatch='2*n_jobs', refit=True, return_train_score=False,\n",
              "             scoring=None, verbose=0)"
            ]
          },
          "metadata": {
            "tags": []
          },
          "execution_count": 16
        }
      ]
    },
    {
      "cell_type": "code",
      "metadata": {
        "id": "3cNEQ4HV3ZAy"
      },
      "source": [
        "import pickle \n",
        "pickle.dump(clf,open('img_model.p','wb'))\n",
        "model=pickle.load(open('img_model.p','rb'))"
      ],
      "execution_count": null,
      "outputs": []
    },
    {
      "cell_type": "code",
      "metadata": {
        "colab": {
          "base_uri": "https://localhost:8080/",
          "height": 319
        },
        "id": "GgFV4qqD3dbw",
        "outputId": "797b982a-62d2-406d-a91c-36674db7ca01"
      },
      "source": [
        "flat_data=[]\n",
        "url=input('Enter your URL: ')\n",
        "img=imread(url)\n",
        "img_resized=resize(img,(100,100,3))\n",
        "flat_data.append(img_resized.flatten())\n",
        "flat_data=np.array(flat_data)\n",
        "print(img.shape)\n",
        "plt.imshow(img_resized)\n",
        "y_out=model.predict(flat_data)\n",
        "y_out=CATEGORIES[y_out[0]]\n",
        "print(f'Predicted output:{y_out}')"
      ],
      "execution_count": null,
      "outputs": [
        {
          "output_type": "stream",
          "text": [
            "Enter your URL: https://5.imimg.com/data5/LM/DU/MY-22954806/apple-fruit-500x500.jpg\n",
            "(500, 500, 3)\n",
            "Predicted output:Apple\n"
          ],
          "name": "stdout"
        },
        {
          "output_type": "display_data",
          "data": {
            "image/png": "[encoded data removed]",
            "text/plain": [
              "<Figure size 432x288 with 1 Axes>"
            ]
          },
          "metadata": {
            "tags": [],
            "needs_background": "light"
          }
        }
      ]
    }
  ]
}